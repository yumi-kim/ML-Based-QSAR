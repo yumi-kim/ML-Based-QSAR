{
 "cells": [
  {
   "cell_type": "code",
   "execution_count": 5,
   "metadata": {},
   "outputs": [
    {
     "name": "stdout",
     "output_type": "stream",
     "text": [
      "<class 'pandas.core.frame.DataFrame'>\n",
      "RangeIndex: 15 entries, 0 to 14\n",
      "Columns: 1444 entries, nAcid to Zagreb\n",
      "dtypes: float64(1444)\n",
      "memory usage: 169.3 KB\n",
      "None\n",
      "============================================\n",
      "After Processing of Removing Low variances \n",
      "============================================\n",
      "<class 'pandas.core.frame.DataFrame'>\n",
      "RangeIndex: 15 entries, 0 to 14\n",
      "Columns: 449 entries, ALogP to Zagreb\n",
      "dtypes: float64(449)\n",
      "memory usage: 52.7 KB\n",
      "None\n"
     ]
    }
   ],
   "source": [
    "'''\n",
    "## 2019. 2. 20\n",
    "## updated by 2019. 5.30\n",
    "## updated by 2019. 9.09\n",
    "## updated by 2019. 10.30\n",
    "## updated by 2019. 11.4 Updated about Parameters\n",
    "\n",
    "by Yumi Kim CBBL at GNU\n",
    "To Remove low variance feature values\n",
    "\n",
    "'''\n",
    "\n",
    "# import Libraries\n",
    "import pandas as pd\n",
    "import numpy as np\n",
    "from sklearn.feature_selection import VarianceThreshold # for Low variance Feature\n",
    "\n",
    "# Parameters\n",
    "imputated_file_name = 'train_x_Imputed_missing_values.csv'\n",
    "threshold_value = 0.05\n",
    "output_file_name = 'train_x_low_variance_feature_values.csv'\n",
    "\n",
    "# Read from csv file\n",
    "raw_dataset = pd.read_csv(imputated_file_name)\n",
    "\n",
    "# Remove \"SMILE\" column \n",
    "if 'smile' in raw_dataset.columns:\n",
    "    smile_data = raw_dataset['smile'] \n",
    "    raw_dataset = raw_dataset.drop(\"smile\", axis = 1) \n",
    "if 'IC50' in raw_dataset.columns:\n",
    "    IC50_data = raw_dataset['IC50']\n",
    "    raw_dataset = raw_dataset.drop(\"IC50\", axis = 1) \n",
    "    \n",
    "##### Step 2 : Low Variance Feature (This could remove all low-variance features.)\n",
    "sel = VarianceThreshold(threshold=threshold_value)\n",
    "featuredDataSet = sel.fit_transform(raw_dataset)\n",
    "\n",
    "#For Debug\n",
    "print(raw_dataset.info())\n",
    "\n",
    "# To write for featured DataFrame\n",
    "X_selected_df = pd.DataFrame(featuredDataSet, columns=[raw_dataset.columns[i] for i in range(len(raw_dataset.columns)) if sel.get_support()[i]])\n",
    "print(\"============================================\")\n",
    "print(\"After Processing of Removing Low variances \")\n",
    "print(\"============================================\")\n",
    "print(X_selected_df.info())\n",
    "X_selected_df['smile']=smile_data # appending for removed \"SMILE\" column\n",
    "X_selected_df['IC50']=IC50_data # appending for removed \"SMILE\" column\n",
    "X_selected_df.to_csv(output_file_name, index=False)\n"
   ]
  },
  {
   "cell_type": "code",
   "execution_count": null,
   "metadata": {},
   "outputs": [],
   "source": []
  }
 ],
 "metadata": {
  "kernelspec": {
   "display_name": "Python 3",
   "language": "python",
   "name": "python3"
  },
  "language_info": {
   "codemirror_mode": {
    "name": "ipython",
    "version": 3
   },
   "file_extension": ".py",
   "mimetype": "text/x-python",
   "name": "python",
   "nbconvert_exporter": "python",
   "pygments_lexer": "ipython3",
   "version": "3.7.0"
  }
 },
 "nbformat": 4,
 "nbformat_minor": 2
}
