{
 "cells": [
  {
   "cell_type": "code",
   "execution_count": null,
   "metadata": {
    "scrolled": true
   },
   "outputs": [],
   "source": [
    "'''\n",
    "\n",
    "2019. 11. 28.\n",
    "\n",
    "by Yumi Kim CBBL at GNU\n",
    "Screening file and Suggest Candidates which has good activity values\n",
    "\n",
    "'''\n",
    "\n",
    "import pandas as pd\n",
    "import numpy as np\n",
    "import pymysql.cursors\n",
    "\n",
    "file_name_KCB_data = 'KCB_data_157694.csv'\n",
    "data_df = pd.read_csv(file_name_KCB_data)\n",
    "\n",
    "file_name_descriptor_list = 'qsar_descriptor_list.csv'\n",
    "descriptor_list_df = pd.read_csv(file_name_descriptor_list)\n",
    "\n",
    "file_name_all_qsar_df = 'qsar_model_list.csv'\n",
    "all_qsar_df = pd.read_csv(file_name_all_qsar_df)\n",
    "\n",
    "input_IC50_value = 0.5\n",
    "screening_output_file_name = 'screening_result.csv'\n",
    "\n",
    "def remove_specific_char(origine_srt, specific_char):\n",
    "    return ''.join( c for c in origine_srt if  c not in specific_char )\n",
    "\n",
    "\n",
    "def get_weight_list(weights):\n",
    "    weights = remove_specific_char(weights, '[]')\n",
    "    weights = weights.split(\" \")\n",
    "\n",
    "    weight_list = []\n",
    "    \n",
    "    for i in range(len(weights)):\n",
    "        if(len(weights[i]) != 0):\n",
    "            weight_list.append(float(weights[i]))\n",
    "    \n",
    "    return weight_list\n",
    "\n",
    "# Get QSAR Weights and bias\n",
    "bias = all_qsar_df['bias_vals'].values[0]\n",
    "#bias = remove_specific_char(bias, '[]')\n",
    "bias = float(bias)\n",
    "weights = all_qsar_df['weights_vals'].values[0]\n",
    "\n",
    "weight_list = get_weight_list(weights)\n",
    "\n",
    "des_list = ['smile']\n",
    "des_list_except_smile = []\n",
    "for i in range(descriptor_list_df.shape[0]):\n",
    "    des_list.append(descriptor_list_df['0'][i])\n",
    "    des_list_except_smile.append(descriptor_list_df['0'][i])\n",
    "    \n",
    "optimized_df = data_df[des_list]\n",
    "\n",
    "optimized_df[\"Pred_IC50\"] = 0\n",
    "for i in range(len(weight_list)):\n",
    "    optimized_df[\"Pred_IC50\"] += optimized_df[des_list_except_smile[i]]*weight_list[i]\n",
    "optimized_df[\"Pred_IC50\"]+= bias\n",
    "\n",
    "optimized_df = optimized_df.sort_values([\"Pred_IC50\"], ascending=[True])\n",
    "# Selection with Condition\n",
    "low_value = optimized_df['Pred_IC50'] > 0\n",
    "high_value = optimized_df['Pred_IC50'] < input_IC50_value\n",
    "same_bias = optimized_df['Pred_IC50'] != bias\n",
    "suggest_compounds_df = optimized_df[low_value & high_value & same_bias]\n",
    "suggest_compounds_df.to_csv(screening_output_file_name, index=False)"
   ]
  },
  {
   "cell_type": "code",
   "execution_count": 4,
   "metadata": {},
   "outputs": [
    {
     "data": {
      "text/html": [
       "<div>\n",
       "<style scoped>\n",
       "    .dataframe tbody tr th:only-of-type {\n",
       "        vertical-align: middle;\n",
       "    }\n",
       "\n",
       "    .dataframe tbody tr th {\n",
       "        vertical-align: top;\n",
       "    }\n",
       "\n",
       "    .dataframe thead th {\n",
       "        text-align: right;\n",
       "    }\n",
       "</style>\n",
       "<table border=\"1\" class=\"dataframe\">\n",
       "  <thead>\n",
       "    <tr style=\"text-align: right;\">\n",
       "      <th></th>\n",
       "      <th>smile</th>\n",
       "      <th>AATS3m</th>\n",
       "      <th>ATSC2m</th>\n",
       "      <th>ATSC4v</th>\n",
       "      <th>C1SP3</th>\n",
       "      <th>VE3_Dt</th>\n",
       "      <th>Pred_IC50</th>\n",
       "    </tr>\n",
       "  </thead>\n",
       "  <tbody>\n",
       "    <tr>\n",
       "      <th>4634</th>\n",
       "      <td>[F]C(O/C4=C/C=C(/OC[C@@]2([H])ON(C)[C@@](CN1N=...</td>\n",
       "      <td>77.326568</td>\n",
       "      <td>645.860725</td>\n",
       "      <td>-1331.578574</td>\n",
       "      <td>4</td>\n",
       "      <td>-22.229335</td>\n",
       "      <td>0.042854</td>\n",
       "    </tr>\n",
       "    <tr>\n",
       "      <th>4547</th>\n",
       "      <td>[F]C(OC=4C=CC(OC[C@@]1([H])ON(C)[C@](C1)(CN2C=...</td>\n",
       "      <td>78.293792</td>\n",
       "      <td>781.514713</td>\n",
       "      <td>-501.318218</td>\n",
       "      <td>5</td>\n",
       "      <td>-12.734697</td>\n",
       "      <td>0.105014</td>\n",
       "    </tr>\n",
       "    <tr>\n",
       "      <th>6469</th>\n",
       "      <td>O=C(CO/C1=C/C(=NN1C)C([F])([F])[F])N(/C2=C/C=C...</td>\n",
       "      <td>78.003740</td>\n",
       "      <td>746.924607</td>\n",
       "      <td>-444.810375</td>\n",
       "      <td>4</td>\n",
       "      <td>-7.924235</td>\n",
       "      <td>0.263157</td>\n",
       "    </tr>\n",
       "    <tr>\n",
       "      <th>4432</th>\n",
       "      <td>O=C(CC=1C=CC=CC=1OC[C@@]2([H])ON=C(C2)C3=C/C=C...</td>\n",
       "      <td>62.678599</td>\n",
       "      <td>121.943725</td>\n",
       "      <td>-698.673742</td>\n",
       "      <td>2</td>\n",
       "      <td>-8.145496</td>\n",
       "      <td>0.302673</td>\n",
       "    </tr>\n",
       "    <tr>\n",
       "      <th>1492</th>\n",
       "      <td>O=C2C(=C(NC=1C=CC(=CC=12)CCCCCC)[S](=O)C)C(=O)...</td>\n",
       "      <td>66.588609</td>\n",
       "      <td>201.593367</td>\n",
       "      <td>247.490130</td>\n",
       "      <td>2</td>\n",
       "      <td>-8.061243</td>\n",
       "      <td>0.340296</td>\n",
       "    </tr>\n",
       "    <tr>\n",
       "      <th>8364</th>\n",
       "      <td>[O-][N+](=O)C1=CC(=CC=C1)C(=O)NC(=O)C2=CC(C)=C...</td>\n",
       "      <td>80.816778</td>\n",
       "      <td>811.241902</td>\n",
       "      <td>-126.252151</td>\n",
       "      <td>4</td>\n",
       "      <td>-9.326891</td>\n",
       "      <td>0.383459</td>\n",
       "    </tr>\n",
       "    <tr>\n",
       "      <th>5397</th>\n",
       "      <td>O=C1[S]C(=NN1CC(=O)NC=2/C=C(/[Cl])C=CC=2)COC=3...</td>\n",
       "      <td>76.123970</td>\n",
       "      <td>585.493192</td>\n",
       "      <td>-219.920796</td>\n",
       "      <td>3</td>\n",
       "      <td>-10.560050</td>\n",
       "      <td>0.411889</td>\n",
       "    </tr>\n",
       "  </tbody>\n",
       "</table>\n",
       "</div>"
      ],
      "text/plain": [
       "                                                  smile     AATS3m  \\\n",
       "4634  [F]C(O/C4=C/C=C(/OC[C@@]2([H])ON(C)[C@@](CN1N=...  77.326568   \n",
       "4547  [F]C(OC=4C=CC(OC[C@@]1([H])ON(C)[C@](C1)(CN2C=...  78.293792   \n",
       "6469  O=C(CO/C1=C/C(=NN1C)C([F])([F])[F])N(/C2=C/C=C...  78.003740   \n",
       "4432  O=C(CC=1C=CC=CC=1OC[C@@]2([H])ON=C(C2)C3=C/C=C...  62.678599   \n",
       "1492  O=C2C(=C(NC=1C=CC(=CC=12)CCCCCC)[S](=O)C)C(=O)...  66.588609   \n",
       "8364  [O-][N+](=O)C1=CC(=CC=C1)C(=O)NC(=O)C2=CC(C)=C...  80.816778   \n",
       "5397  O=C1[S]C(=NN1CC(=O)NC=2/C=C(/[Cl])C=CC=2)COC=3...  76.123970   \n",
       "\n",
       "          ATSC2m       ATSC4v  C1SP3     VE3_Dt  Pred_IC50  \n",
       "4634  645.860725 -1331.578574      4 -22.229335   0.042854  \n",
       "4547  781.514713  -501.318218      5 -12.734697   0.105014  \n",
       "6469  746.924607  -444.810375      4  -7.924235   0.263157  \n",
       "4432  121.943725  -698.673742      2  -8.145496   0.302673  \n",
       "1492  201.593367   247.490130      2  -8.061243   0.340296  \n",
       "8364  811.241902  -126.252151      4  -9.326891   0.383459  \n",
       "5397  585.493192  -219.920796      3 -10.560050   0.411889  "
      ]
     },
     "execution_count": 4,
     "metadata": {},
     "output_type": "execute_result"
    }
   ],
   "source": [
    "suggest_compounds_df"
   ]
  },
  {
   "cell_type": "code",
   "execution_count": 2,
   "metadata": {},
   "outputs": [
    {
     "data": {
      "text/plain": [
       "459.18"
      ]
     },
     "execution_count": 2,
     "metadata": {},
     "output_type": "execute_result"
    }
   ],
   "source": [
    "all_qsar_df['bias_vals'].values[0]"
   ]
  },
  {
   "cell_type": "code",
   "execution_count": 6,
   "metadata": {},
   "outputs": [
    {
     "data": {
      "text/plain": [
       "'[[-7.4150e+00  2.2400e-01  1.2000e-02 -1.4506e+01 -1.9600e+00]]'"
      ]
     },
     "execution_count": 6,
     "metadata": {},
     "output_type": "execute_result"
    }
   ],
   "source": [
    "all_qsar_df['weights_vals'].values[0]"
   ]
  },
  {
   "cell_type": "code",
   "execution_count": null,
   "metadata": {},
   "outputs": [],
   "source": []
  }
 ],
 "metadata": {
  "kernelspec": {
   "display_name": "Python 3",
   "language": "python",
   "name": "python3"
  },
  "language_info": {
   "codemirror_mode": {
    "name": "ipython",
    "version": 3
   },
   "file_extension": ".py",
   "mimetype": "text/x-python",
   "name": "python",
   "nbconvert_exporter": "python",
   "pygments_lexer": "ipython3",
   "version": "3.7.0"
  }
 },
 "nbformat": 4,
 "nbformat_minor": 2
}
