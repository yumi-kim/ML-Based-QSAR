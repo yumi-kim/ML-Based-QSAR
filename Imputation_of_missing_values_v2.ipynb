{
 "cells": [
  {
   "cell_type": "code",
   "execution_count": 16,
   "metadata": {
    "scrolled": true
   },
   "outputs": [],
   "source": [
    "\n",
    "'''\n",
    "## 2019. 2. 20\n",
    "## updated by 2019. 5.30\n",
    "## updated by 2019. 9. 9\n",
    "## updated by 2019. 10.30\n",
    "## updated by 2019. 11.4 Updated about Parameters\n",
    "\n",
    "by Yumi Kim CBBL at GNU\n",
    "Imputation of Missing Values\n",
    "\n",
    "'''\n",
    "\n",
    "# import Libraries\n",
    "import pandas as pd\n",
    "import numpy as np\n",
    "from sklearn.impute import SimpleImputer # for Imputation\n",
    "\n",
    "# Parameters from Web\n",
    "file_name = 'test_after_descriptor_calculating.csv'\n",
    "strategy = 1\n",
    "output_file_name = 'train_x_Imputed_missing_values.csv'\n",
    "\n",
    "# Read from csv file\n",
    "raw_dataset = pd.read_csv(file_name)\n",
    "#raw_dataset = pd.read_csv('BACE1_inhibitors__data.csv')\n",
    "\n",
    "# Remove \"SMILE\" column for imputation\n",
    "if 'smile' in raw_dataset.columns:\n",
    "    smile_data = raw_dataset['smile']\n",
    "    raw_dataset = raw_dataset.drop(\"smile\", axis = 1) \n",
    "\n",
    "if 'IC50' in raw_dataset.columns:\n",
    "    IC50_data = raw_dataset['IC50']\n",
    "    raw_dataset = raw_dataset.drop(\"IC50\", axis = 1) \n",
    "    \n",
    "##### Step 1 : Imputation of Missing Value \n",
    "# Strategy could be 'mean' or 'median' or 'most_frequent'\n",
    "\n",
    "if strategy == 1:\n",
    "    imp = SimpleImputer(missing_values=np.nan, strategy='mean')\n",
    "elif strategy == 2:\n",
    "    imp = SimpleImputer(missing_values=np.nan, strategy='median')\n",
    "elif strategy ==3 :\n",
    "    imp = SimpleImputer(missing_values=np.nan, strategy='most_frequent')\n",
    "        \n",
    "imp.fit(raw_dataset)\n",
    "imputedDataSet = imp.transform(raw_dataset)\n",
    "\n",
    "# To write for imputed DataFrame\n",
    "df = pd.DataFrame(imputedDataSet, columns = raw_dataset.columns)\n",
    "df['smile']=smile_data # appending for removed \"SMILE\" column\n",
    "df['IC50']=IC50_data # appending for removed \"SMILE\" column\n",
    "df.to_csv(output_file_name, index=False)\n"
   ]
  },
  {
   "cell_type": "code",
   "execution_count": null,
   "metadata": {},
   "outputs": [],
   "source": []
  },
  {
   "cell_type": "code",
   "execution_count": null,
   "metadata": {},
   "outputs": [],
   "source": []
  },
  {
   "cell_type": "code",
   "execution_count": null,
   "metadata": {},
   "outputs": [],
   "source": []
  },
  {
   "cell_type": "code",
   "execution_count": null,
   "metadata": {},
   "outputs": [],
   "source": []
  },
  {
   "cell_type": "code",
   "execution_count": null,
   "metadata": {},
   "outputs": [],
   "source": []
  }
 ],
 "metadata": {
  "kernelspec": {
   "display_name": "Python 3",
   "language": "python",
   "name": "python3"
  },
  "language_info": {
   "codemirror_mode": {
    "name": "ipython",
    "version": 3
   },
   "file_extension": ".py",
   "mimetype": "text/x-python",
   "name": "python",
   "nbconvert_exporter": "python",
   "pygments_lexer": "ipython3",
   "version": "3.7.0"
  }
 },
 "nbformat": 4,
 "nbformat_minor": 2
}
